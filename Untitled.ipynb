{
 "cells": [
  {
   "cell_type": "code",
   "execution_count": 9,
   "id": "24259b68-d7c2-4d2b-93f6-ca85bf2be252",
   "metadata": {},
   "outputs": [],
   "source": [
    "import os\n",
    "\n",
    "\n",
    "dafds"
   ]
  },
  {
   "cell_type": "code",
   "execution_count": 10,
   "id": "bb6238f7-94f8-4133-8861-544ade23e7b0",
   "metadata": {},
   "outputs": [
    {
     "name": "stdout",
     "output_type": "stream",
     "text": [
      "blabla2\n"
     ]
    }
   ],
   "source": [
    "print(\"blabla2\")"
   ]
  },
  {
   "cell_type": "code",
   "execution_count": 7,
   "id": "febd7247-49e5-4e1e-8d65-97dadf6c5884",
   "metadata": {},
   "outputs": [
    {
     "name": "stdout",
     "output_type": "stream",
     "text": [
      "Fdsf\n"
     ]
    }
   ],
   "source": [
    "print(\"Fdsf\")"
   ]
  }
 ],
 "metadata": {
  "kernelspec": {
   "display_name": "Python 3",
   "language": "python",
   "name": "python3"
  },
  "language_info": {
   "codemirror_mode": {
    "name": "ipython",
    "version": 3
   },
   "file_extension": ".py",
   "mimetype": "text/x-python",
   "name": "python",
   "nbconvert_exporter": "python",
   "pygments_lexer": "ipython3",
   "version": "3.8.10"
  }
 },
 "nbformat": 4,
 "nbformat_minor": 5
}
